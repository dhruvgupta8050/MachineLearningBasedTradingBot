{
 "cells": [
  {
   "cell_type": "code",
   "execution_count": 5,
   "id": "c329c453",
   "metadata": {},
   "outputs": [],
   "source": [
    "stocks = [\"3499\",\"5097\",\"2029\",\"212\",\"31415\",\"12018\"]\n",
    "files = [\"3499_13_09_2024.csv\",\"5097_13_09_2024.csv\",\"2029_13_09_2024.csv\",\"212_13_09_2024.csv\",\"31415_13_09_2024.csv\",\"12018_13_09_2024.csv\"]"
   ]
  },
  {
   "cell_type": "code",
   "execution_count": 26,
   "id": "e13bc15a",
   "metadata": {},
   "outputs": [],
   "source": [
    "for csv_file_path in files:   \n",
    "    \n",
    "    # Initialize the CSV file with headers if it doesn't already exist\n",
    "    if not os.path.exists(csv_file_path):\n",
    "        with open(csv_file_path, mode='w', newline='') as file:\n",
    "            writer = csv.DictWriter(file, fieldnames=['subscription_mode', 'exchange_type', 'token', 'sequence_number', 'exchange_timestamp', 'last_traded_price', 'subscription_mode_val'])\n",
    "            writer.writeheader()"
   ]
  },
  {
   "cell_type": "code",
   "execution_count": 6,
   "id": "12c6f4b3",
   "metadata": {},
   "outputs": [],
   "source": [
    "import csv\n",
    "import os"
   ]
  },
  {
   "cell_type": "code",
   "execution_count": 19,
   "id": "52d60203",
   "metadata": {},
   "outputs": [],
   "source": [
    "# Replace 'your_file.csv' with the path to your CSV file\n",
    "csv_file_path = 'tick_data\\\\tick_data_09_10_2024.csv'\n",
    "\n",
    "# Open the CSV file\n",
    "with open(csv_file_path, mode='r') as file:\n",
    "    # Create a CSV reader object\n",
    "    csv_reader = csv.reader(file)\n",
    "    \n",
    "    # Skip the header row\n",
    "    next(csv_reader)\n",
    "    \n",
    "    # Iterate over each row in the CSV file\n",
    "    for row in csv_reader:\n",
    "        # Iterate over each token in stocks list\n",
    "        for stock in stocks:\n",
    "            # If token match, open token.csv file and append data\n",
    "            if row[2] == stock:\n",
    "                stock_file = stock+'_09_10_2024.csv'\n",
    "                with open(stock_file, mode='a') as curr_file:\n",
    "                    writer = csv.writer(curr_file)\n",
    "                    writer.writerow(row)"
   ]
  },
  {
   "cell_type": "code",
   "execution_count": 20,
   "id": "31d57ebf",
   "metadata": {},
   "outputs": [],
   "source": [
    "for i in stocks:\n",
    "    # Paths to the input and output CSV files\n",
    "    input_csv = i + '_09_10_2024.csv'\n",
    "    output_csv = i + '_09_10_2024_clean.csv'\n",
    "\n",
    "    # Open the input CSV file for reading\n",
    "    with open(input_csv, mode='r') as infile:\n",
    "        # Create a CSV reader object\n",
    "        reader = csv.reader(infile)\n",
    "\n",
    "        # Open the output CSV file for writing\n",
    "        with open(output_csv, mode='w', newline='') as outfile:\n",
    "            # Create a CSV writer object\n",
    "            writer = csv.writer(outfile)\n",
    "\n",
    "            # Iterate over each row in the input CSV\n",
    "            for row in reader:\n",
    "                # Check if the row is not empty or blank\n",
    "                if any(field.strip() for field in row):\n",
    "                    # Write the non-empty row to the output CSV\n",
    "                    writer.writerow(row)\n",
    "\n",
    "    # Remove the original input file\n",
    "    os.remove(input_csv)\n",
    "\n",
    "    # Rename the output file to the original input file's name\n",
    "    os.rename(output_csv, input_csv)"
   ]
  },
  {
   "cell_type": "code",
   "execution_count": null,
   "id": "2a7b35ce",
   "metadata": {},
   "outputs": [],
   "source": []
  }
 ],
 "metadata": {
  "kernelspec": {
   "display_name": "Python 3 (ipykernel)",
   "language": "python",
   "name": "python3"
  },
  "language_info": {
   "codemirror_mode": {
    "name": "ipython",
    "version": 3
   },
   "file_extension": ".py",
   "mimetype": "text/x-python",
   "name": "python",
   "nbconvert_exporter": "python",
   "pygments_lexer": "ipython3",
   "version": "3.11.3"
  }
 },
 "nbformat": 4,
 "nbformat_minor": 5
}
